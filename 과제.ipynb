{
  "nbformat": 4,
  "nbformat_minor": 0,
  "metadata": {
    "colab": {
      "provenance": [],
      "authorship_tag": "ABX9TyMqoCL7Crv0cLrMJNPHekJD",
      "include_colab_link": true
    },
    "kernelspec": {
      "name": "python3",
      "display_name": "Python 3"
    },
    "language_info": {
      "name": "python"
    }
  },
  "cells": [
    {
      "cell_type": "markdown",
      "metadata": {
        "id": "view-in-github",
        "colab_type": "text"
      },
      "source": [
        "<a href=\"https://colab.research.google.com/github/songhj8304/Git-tutorial/blob/main/%EA%B3%BC%EC%A0%9C.ipynb\" target=\"_parent\"><img src=\"https://colab.research.google.com/assets/colab-badge.svg\" alt=\"Open In Colab\"/></a>"
      ]
    },
    {
      "cell_type": "code",
      "execution_count": null,
      "metadata": {
        "id": "AuwSSqVsHHn-",
        "colab": {
          "base_uri": "https://localhost:8080/"
        },
        "outputId": "182552bd-2d03-4f0c-d107-8b864851cb47"
      },
      "outputs": [
        {
          "output_type": "stream",
          "name": "stdout",
          "text": [
            "넓이를 구하고자 하는 원의 반지름은? 4\n",
            "반지름이  4 인 원의 넓이 = 3.14 *  4  *  4  =  50.24\n"
          ]
        }
      ],
      "source": [
        "def get_radius(prompt):\n",
        "  r=int(input(prompt))\n",
        "  return r\n",
        "\n",
        "def get_circle_area(b):\n",
        "  area=3.14*b*b\n",
        "  return area\n",
        "\n",
        "prompt='넓이를 구하고자 하는 원의 반지름은? '\n",
        "result=get_radius(prompt)\n",
        "result2=get_circle_area(result)\n",
        "print('반지름이 ',result,'인 원의 넓이 = 3.14 * ',result,' * ',result,' = ', result2)\n"
      ]
    }
  ]
}